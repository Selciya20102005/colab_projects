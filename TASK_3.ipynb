{
  "nbformat": 4,
  "nbformat_minor": 0,
  "metadata": {
    "colab": {
      "provenance": [],
      "authorship_tag": "ABX9TyOe1j7Lik/y4DD5Uh5oDQuF",
      "include_colab_link": true
    },
    "kernelspec": {
      "name": "python3",
      "display_name": "Python 3"
    },
    "language_info": {
      "name": "python"
    }
  },
  "cells": [
    {
      "cell_type": "markdown",
      "metadata": {
        "id": "view-in-github",
        "colab_type": "text"
      },
      "source": [
        "<a href=\"https://colab.research.google.com/github/Selciya20102005/colab_projects/blob/main/TASK_3.ipynb\" target=\"_parent\"><img src=\"https://colab.research.google.com/assets/colab-badge.svg\" alt=\"Open In Colab\"/></a>"
      ]
    },
    {
      "cell_type": "code",
      "execution_count": null,
      "metadata": {
        "colab": {
          "base_uri": "https://localhost:8080/"
        },
        "id": "kS8YiqdPdYWg",
        "outputId": "7b1900f8-2e8a-43e2-c2ea-fc2a02458683"
      },
      "outputs": [
        {
          "output_type": "stream",
          "name": "stdout",
          "text": [
            "Accuracy: 0.87\n",
            "Classification Report:\n",
            "              precision    recall  f1-score   support\n",
            "\n",
            "           0       0.93      0.93      0.93     11977\n",
            "           1       0.46      0.48      0.47      1587\n",
            "\n",
            "    accuracy                           0.87     13564\n",
            "   macro avg       0.69      0.70      0.70     13564\n",
            "weighted avg       0.87      0.87      0.87     13564\n",
            "\n"
          ]
        }
      ],
      "source": [
        "import pandas as pd\n",
        "import zipfile\n",
        "import os\n",
        "from sklearn.model_selection import train_test_split\n",
        "from sklearn.tree import DecisionTreeClassifier\n",
        "from sklearn.preprocessing import LabelEncoder\n",
        "from sklearn.metrics import classification_report, accuracy_score\n",
        "\n",
        "# Step 1: Extract the main ZIP file\n",
        "zip_path = '/content/bank+marketing.zip'\n",
        "extract_to = '/content/extracted/'\n",
        "\n",
        "with zipfile.ZipFile(zip_path, 'r') as zip_ref:\n",
        "    zip_ref.extractall(extract_to)\n",
        "\n",
        "# Step 2: Locate the inner ZIP file ('bank.zip') and extract it\n",
        "inner_zip_path = os.path.join(extract_to, 'bank.zip')\n",
        "inner_extract_to = os.path.join(extract_to, 'bank')\n",
        "\n",
        "with zipfile.ZipFile(inner_zip_path, 'r') as zip_ref:\n",
        "    zip_ref.extractall(inner_extract_to)\n",
        "\n",
        "# Step 3: Load the CSV file\n",
        "csv_path = os.path.join(inner_extract_to, 'bank-full.csv')  # Path to 'bank-full.csv'\n",
        "data = pd.read_csv(csv_path, sep=';')\n",
        "\n",
        "# Step 4: Preprocessing - Encode categorical variables\n",
        "label_encoders = {}\n",
        "for column in data.select_dtypes(include='object').columns:\n",
        "    le = LabelEncoder()\n",
        "    data[column] = le.fit_transform(data[column])\n",
        "    label_encoders[column] = le\n",
        "\n",
        "# Step 5: Define features and target\n",
        "X = data.drop('y', axis=1)\n",
        "y = data['y']\n",
        "\n",
        "# Step 6: Split data into train and test sets\n",
        "X_train, X_test, y_train, y_test = train_test_split(X, y, test_size=0.3, random_state=42, stratify=y)\n",
        "\n",
        "# Step 7: Build and evaluate the decision tree classifier\n",
        "clf = DecisionTreeClassifier(random_state=42)\n",
        "clf.fit(X_train, y_train)\n",
        "\n",
        "# Step 8: Predict and evaluate\n",
        "y_pred = clf.predict(X_test)\n",
        "accuracy = accuracy_score(y_test, y_pred)\n",
        "print(f\"Accuracy: {accuracy:.2f}\")\n",
        "print(\"Classification Report:\")\n",
        "print(classification_report(y_test, y_pred))\n"
      ]
    }
  ]
}